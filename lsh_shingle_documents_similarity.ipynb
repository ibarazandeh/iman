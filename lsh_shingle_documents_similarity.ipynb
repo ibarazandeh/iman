{
  "nbformat": 4,
  "nbformat_minor": 0,
  "metadata": {
    "colab": {
      "name": "dm-hw2-imanbarazandeh-830498001",
      "provenance": [],
      "collapsed_sections": []
    },
    "kernelspec": {
      "name": "python3",
      "display_name": "Python 3"
    }
  },
  "cells": [
    {
      "cell_type": "code",
      "metadata": {
        "id": "19fvrSZIOEJN",
        "colab_type": "code",
        "colab": {}
      },
      "source": [
        "import os\n",
        "import re\n",
        "import itertools  \n",
        "import random\n",
        "import pandas as pd\n",
        "import numpy as np\n",
        "from scipy.sparse import lil_matrix\n",
        "from collections import defaultdict\n",
        "root='/content/drive/My Drive/Colab Notebooks/docs'\n",
        "len_of_shingles=10"
      ],
      "execution_count": 0,
      "outputs": []
    },
    {
      "cell_type": "markdown",
      "metadata": {
        "id": "szAvr5hAbCil",
        "colab_type": "text"
      },
      "source": [
        "**This is the whole story:**\n",
        "\n",
        "![Locality-sensitive hashing](https://dl.dropboxusercontent.com/s/09xk0f07pw45qh2/mystory.png)\n",
        "\n",
        "\n",
        "\n"
      ]
    },
    {
      "cell_type": "code",
      "metadata": {
        "id": "gl47wnto4rQM",
        "colab_type": "code",
        "colab": {}
      },
      "source": [
        "\n",
        "\n",
        "k_shingles=lambda x: len(x)>=2 # Check the length of a string (shingles)\n",
        "\n",
        "def shinglizer(txt, n): \n",
        "  txt=re.sub(r'[^\\w\\s\\d]',' ', txt).lower() #Replace all non-numerical and non-alphabetical characters with space\n",
        "  txt=re.sub(r'\\s{1,}',' ', txt) #Replace one or more spaces with one space\n",
        "  txt=[(txt[i:i+n]) for i in range(0, len(txt))] #Split the input string into shingles of n characters\n",
        "  txt=set(filter(k_shingles,txt)) #filter very short shingles\n",
        "  return txt "
      ],
      "execution_count": 0,
      "outputs": []
    },
    {
      "cell_type": "markdown",
      "metadata": {
        "id": "ja4uTXVrYHxP",
        "colab_type": "text"
      },
      "source": [
        "**Converting Documents To Sets of Shingles**"
      ]
    },
    {
      "cell_type": "code",
      "metadata": {
        "id": "aXRJA4m3GFSz",
        "colab_type": "code",
        "outputId": "89d52e1d-6b50-44fe-907c-2b5a042c0226",
        "colab": {
          "base_uri": "https://localhost:8080/",
          "height": 51
        }
      },
      "source": [
        "#Reading all files and their contents and then, split texts into shingles\n",
        "%%time\n",
        "\n",
        "shingles=set()\n",
        "\n",
        "documents=os.listdir(root)\n",
        "documents = random.sample(documents, len(documents)) #shuffling documents \n",
        "\n",
        "content=dict()\n",
        "for doc in documents:\n",
        "  path= os.path.join(root, doc)\n",
        "  file = open(path, 'r')\n",
        "  txt=file.read()\n",
        "  shn=shinglizer(txt,len_of_shingles)\n",
        "  content[doc]=shn\n",
        "  shingles.update(shn)\n",
        "\n",
        "  file.close()\n",
        "\n",
        "shingles=list(shingles)\n",
        "shingles = random.sample(shingles, len(shingles)) #shuffling shingles "
      ],
      "execution_count": 3,
      "outputs": [
        {
          "output_type": "stream",
          "text": [
            "CPU times: user 215 ms, sys: 72.5 ms, total: 288 ms\n",
            "Wall time: 652 ms\n"
          ],
          "name": "stdout"
        }
      ]
    },
    {
      "cell_type": "markdown",
      "metadata": {
        "id": "iqWsq33ZYWRz",
        "colab_type": "text"
      },
      "source": [
        "**Generating Shingles-Documents Matrix**"
      ]
    },
    {
      "cell_type": "code",
      "metadata": {
        "id": "hDeMsEsWGFkR",
        "colab_type": "code",
        "outputId": "71e9c781-d617-469c-fc2a-01d8986f011a",
        "colab": {
          "base_uri": "https://localhost:8080/",
          "height": 68
        }
      },
      "source": [
        "#Generating shingles-documents matrix\n",
        "%%time\n",
        "mtx=pd.DataFrame(0,columns=documents,index=shingles)\n",
        "\n",
        "for doc in documents:\n",
        "  for shingle in content[doc]:\n",
        "    mtx.at[shingle,doc]=1\n",
        "\n",
        "print('The shape of the mtx is: ', mtx.shape)"
      ],
      "execution_count": 4,
      "outputs": [
        {
          "output_type": "stream",
          "text": [
            "The shape of the mtx is:  (34583, 436)\n",
            "CPU times: user 1.13 s, sys: 26.4 ms, total: 1.15 s\n",
            "Wall time: 1.16 s\n"
          ],
          "name": "stdout"
        }
      ]
    },
    {
      "cell_type": "markdown",
      "metadata": {
        "id": "wK2qVL5gYpQU",
        "colab_type": "text"
      },
      "source": [
        "**Generating Signature Matrix**"
      ]
    },
    {
      "cell_type": "code",
      "metadata": {
        "id": "bycep03s9wG_",
        "colab_type": "code",
        "outputId": "4043fe0e-19af-4a8c-d899-6dc013eaac12",
        "colab": {
          "base_uri": "https://localhost:8080/",
          "height": 51
        }
      },
      "source": [
        "#Let's assume there are 100 hash functuions to produce signatures for all sets(documents)\n",
        "%%time\n",
        "\n",
        "denominator=mtx.shape[0]\n",
        "permutation=lambda a,x,c : (a*x+c) % denominator \n",
        "\n",
        "signature_length=100 #Num of hash functions as well.\n",
        "\n",
        "\n",
        "def minhash(a,c,li): #It hashes the indices and return the minimum index\n",
        "  hashed_list=[permutation(a,x,c) for x in li]\n",
        "  return min(hashed_list)\n",
        "\n",
        "def signature(mtx):\n",
        "  c=random.sample(list(range(1,1001)),k=1000)\n",
        "  a=random.sample(list(range(1,1001)),k=1000)\n",
        "  \n",
        "  lil=lil_matrix(mtx.values) #Sparse representation Help to speed up computation and save resources\n",
        "  signs=pd.DataFrame('-',columns=documents, index=list(range(0,signature_length)))\n",
        "\n",
        "  for i in range(0,lil.get_shape()[1]): #iterating over documents\n",
        "    coli_nz_idx=lil.getcol(i).nonzero()[0] #return a numpy array of indices of nonzero elements of column i\n",
        "    signs[documents[i]]=[minhash(a[j],c[j],coli_nz_idx) for j in range(0, signature_length)]  \n",
        "  return signs\n",
        "\n",
        "sig=signature(mtx)"
      ],
      "execution_count": 5,
      "outputs": [
        {
          "output_type": "stream",
          "text": [
            "CPU times: user 1min 11s, sys: 340 ms, total: 1min 11s\n",
            "Wall time: 1min 11s\n"
          ],
          "name": "stdout"
        }
      ]
    },
    {
      "cell_type": "markdown",
      "metadata": {
        "id": "jzqNA0DtWos-",
        "colab_type": "text"
      },
      "source": [
        "**Cosine-based L.S.H. implementation**\n",
        "\n",
        "The figure shows what happens in each iteration.\n",
        "\n",
        "![Cosine-based L.S.H. implementation](https://dl.dropboxusercontent.com/s/ilxxafrt83fusr2/cosines.png)\n",
        "\n",
        "\n"
      ]
    },
    {
      "cell_type": "code",
      "metadata": {
        "id": "-4xJXjKHMbSB",
        "colab_type": "code",
        "colab": {
          "base_uri": "https://localhost:8080/",
          "height": 68
        },
        "outputId": "8ef16360-9843-4dfd-dcd6-0b2f24e495dc"
      },
      "source": [
        "# Cosine-based L.S.H. implementation\n",
        "%%time\n",
        "\n",
        "r=10 #num_of_rows_in_a_bar\n",
        "b=signature_length/r #num_of_bars (The num of hash sig. hash fucts is 100)\n",
        "s=(1/b)**(1/r) #Threshold or the probability_of_candidacy \n",
        "print(\"The Threshold for the candidacy is %5.2f\" % s)\n",
        "\n",
        "distance=lambda U,v: [np.dot(u,v) for u in U]\n",
        "\n",
        "\n",
        "def randvect(r): #Returns a random list of -1 and 1\n",
        "  rv=np.random.randint(2, size=r)\n",
        "  replace=lambda x: x-1 if(x==0) else x\n",
        "  rv=list(map(replace,rv))\n",
        "  return rv\n",
        "\n",
        "def lsh_cosine(sig):\n",
        "\n",
        "  v=randvect(r)\n",
        "\n",
        "  bars=np.array(pd.DataFrame(sig, index=list(range(0,r)),columns=documents)).T\n",
        "  bar_cos=distance(bars,v)\n",
        "  bar_cos=pd.DataFrame(bar_cos,columns=[0],index=documents)\n",
        "  cosines=pd.DataFrame(bar_cos)\n",
        "\n",
        "  for i in range (r,signature_length,r):\n",
        "    #v=randvect(r)\n",
        "    bars=np.array(pd.DataFrame(sig, index=list(range(i,i+r)),columns=documents)).T\n",
        "    bar_cos=distance(bars,v)\n",
        "    bar_cos=pd.DataFrame(bar_cos,columns=[int(i/r)],index=documents)\n",
        "    cosines=pd.concat([cosines, bar_cos], axis=1)\n",
        "  return cosines,v\n",
        "  \n",
        "cosines,vector=lsh_cosine(sig)\n",
        "#print(vector)\n"
      ],
      "execution_count": 6,
      "outputs": [
        {
          "output_type": "stream",
          "text": [
            "The Threshold for the candidacy is  0.79\n",
            "CPU times: user 59.8 ms, sys: 8 µs, total: 59.8 ms\n",
            "Wall time: 59.3 ms\n"
          ],
          "name": "stdout"
        }
      ]
    },
    {
      "cell_type": "markdown",
      "metadata": {
        "id": "0jfkiaTpWSJt",
        "colab_type": "text"
      },
      "source": [
        "**Updating bins with an OR Construction**\n",
        "\n",
        "![Updating bins with an OR Construction](https://dl.dropboxusercontent.com/s/6ilnejffw2z777n/bins.png)\n",
        "\n"
      ]
    },
    {
      "cell_type": "code",
      "metadata": {
        "id": "rCIB-UNaAryl",
        "colab_type": "code",
        "colab": {
          "base_uri": "https://localhost:8080/",
          "height": 51
        },
        "outputId": "4c0c21b2-ac4e-464b-f206-7df0e941e227"
      },
      "source": [
        "%%time\n",
        "noSameElements=lambda t: t[0]!=t[1]\n",
        "\n",
        "def assign_a_binID(li):\n",
        "  bits = [str(i) for i in li]\n",
        "  bits = \"\".join(bits)\n",
        "  return int(bits,2)\n",
        "\n",
        "#Converting signs to booleans and then, bits\n",
        "bins=np.array(cosines.ge(0))\n",
        "bins=np.multiply(bins, 1) \n",
        "binsDict=defaultdict(list)\n",
        "\n",
        "\n",
        "for i,doc in enumerate(documents):\n",
        "  binID=assign_a_binID(bins[i])\n",
        "  binsDict[binID].append(doc)\n",
        "\n",
        "candidate_pairs=set()\n",
        "for i in binsDict.keys():\n",
        "  if (len(binsDict[i])>=2):\n",
        "    pairs=set(itertools.product(binsDict[i],binsDict[i]))\n",
        "    pairs=set([tuple(sorted(item)) for item in pairs])\n",
        "    pairs=set(filter(noSameElements,pairs))\n",
        "    candidate_pairs.update(pairs)\n",
        "    "
      ],
      "execution_count": 7,
      "outputs": [
        {
          "output_type": "stream",
          "text": [
            "CPU times: user 15.6 ms, sys: 984 µs, total: 16.6 ms\n",
            "Wall time: 17.2 ms\n"
          ],
          "name": "stdout"
        }
      ]
    },
    {
      "cell_type": "markdown",
      "metadata": {
        "id": "9B_rPUden9TR",
        "colab_type": "text"
      },
      "source": [
        "**Validation: L.S.H vs. Jaccard**"
      ]
    },
    {
      "cell_type": "code",
      "metadata": {
        "id": "XR4u_pzXMgmy",
        "colab_type": "code",
        "colab": {
          "base_uri": "https://localhost:8080/",
          "height": 102
        },
        "outputId": "8c26d669-cbf4-4cbc-ea3a-44755d10bed2"
      },
      "source": [
        "#Brute Force comaprison\n",
        "brute_pairs=[]\n",
        "jaccardWithShingles=lambda d : len(content[d[0]].intersection(content[d[1]])) / float(len(content[d[0]].union(content[d[1]])))\n",
        "\n",
        "for d1 in documents:\n",
        "  for d2 in documents:\n",
        "    if(d1!=d2):\n",
        "      jws=jaccardWithShingles((d1,d2))\n",
        "      if((jws>=0.78) and ((d2,d1) not in brute_pairs)):\n",
        "        print('(%s , %s) = %f' %(d1,d2,jws))\n",
        "        brute_pairs.append((d1,d2))  \n"
      ],
      "execution_count": 11,
      "outputs": [
        {
          "output_type": "stream",
          "text": [
            "(16 , 1) = 1.000000\n",
            "(16 , 15) = 1.000000\n",
            "(1 , 15) = 1.000000\n",
            "(17 , 19) = 1.000000\n",
            "(21 , 18) = 0.907186\n"
          ],
          "name": "stdout"
        }
      ]
    },
    {
      "cell_type": "code",
      "metadata": {
        "id": "J9j5aiK9VuSf",
        "colab_type": "code",
        "outputId": "f46bc789-d715-4d4d-d086-d9cc556e0623",
        "colab": {
          "base_uri": "https://localhost:8080/",
          "height": 51
        }
      },
      "source": [
        "cart=len(documents)**2\n",
        "cart=(cart-len(documents))/2\n",
        "p=len(candidate_pairs)/cart * 100\n",
        "print('Almost %5.2f percent of document-pairs are candidates to be compared.'% p)\n",
        "print('And the number of candidate pairs are %d, including: '% len(candidate_pairs))\n"
      ],
      "execution_count": 12,
      "outputs": [
        {
          "output_type": "stream",
          "text": [
            "Almost  0.57 percent of document-pairs are candidates to be compared.\n",
            "And the number of candidate pairs are 545, including: \n"
          ],
          "name": "stdout"
        }
      ]
    },
    {
      "cell_type": "code",
      "metadata": {
        "id": "mCnqY9RMaF-X",
        "colab_type": "code",
        "colab": {
          "base_uri": "https://localhost:8080/",
          "height": 54
        },
        "outputId": "a0adcf35-4aeb-4372-c9a7-d103183a000f"
      },
      "source": [
        "print(candidate_pairs)"
      ],
      "execution_count": 13,
      "outputs": [
        {
          "output_type": "stream",
          "text": [
            "{('271', '32'), ('223', '37'), ('329', '374'), ('17', '19'), ('122', '238'), ('152', '161'), ('288', '355'), ('272', '317'), ('371', '427'), ('305', '6'), ('26', '345'), ('290', '385'), ('223', '274'), ('304', '365'), ('15', '16'), ('118', '243'), ('122', '161'), ('280', '9'), ('225', '31'), ('372', '388'), ('143', '334'), ('123', '249'), ('168', '314'), ('228', '256'), ('140', '365'), ('248', '273'), ('135', '433'), ('332', '353'), ('219', '329'), ('53', '90'), ('292', '335'), ('226', '298'), ('133', '402'), ('204', '376'), ('138', '394'), ('184', '433'), ('234', '241'), ('68', '78'), ('51', '92'), ('347', '89'), ('245', '66'), ('272', '54'), ('23', '308'), ('132', '286'), ('162', '216'), ('13', '166'), ('2', '261'), ('18', '225'), ('415', '79'), ('266', '378'), ('104', '75'), ('170', '178'), ('365', '64'), ('10', '12'), ('216', '317'), ('279', '298'), ('431', '76'), ('290', '82'), ('162', '54'), ('23', '425'), ('219', '248'), ('203', '324'), ('422', '423'), ('231', '90'), ('355', '428'), ('295', '360'), ('254', '314'), ('382', '65'), ('274', '373'), ('15', '208'), ('277', '387'), ('138', '167'), ('398', '79'), ('127', '202'), ('266', '428'), ('246', '339'), ('180', '301'), ('127', '205'), ('162', '68'), ('348', '372'), ('131', '382'), ('200', '380'), ('417', '87'), ('105', '89'), ('168', '221'), ('180', '343'), ('273', '329'), ('166', '46'), ('272', '57'), ('127', '162'), ('131', '65'), ('175', '64'), ('280', '50'), ('165', '37'), ('342', '61'), ('21', '223'), ('308', '425'), ('13', '46'), ('28', '290'), ('355', '378'), ('271', '373'), ('126', '190'), ('142', '62'), ('221', '258'), ('31', '32'), ('145', '35'), ('165', '274'), ('374', '403'), ('219', '352'), ('248', '329'), ('18', '381'), ('340', '370'), ('135', '184'), ('202', '317'), ('140', '98'), ('21', '271'), ('21', '37'), ('360', '368'), ('234', '282'), ('411', '92'), ('248', '352'), ('127', '68'), ('22', '337'), ('106', '229'), ('18', '32'), ('223', '32'), ('271', '37'), ('118', '330'), ('385', '82'), ('140', '282'), ('205', '317'), ('162', '272'), ('122', '2'), ('164', '348'), ('274', '381'), ('159', '279'), ('215', '243'), ('202', '54'), ('107', '281'), ('416', '82'), ('385', '416'), ('152', '2'), ('277', '90'), ('15', '176'), ('155', '261'), ('266', '330'), ('234', '304'), ('221', '414'), ('288', '378'), ('219', '403'), ('127', '216'), ('215', '288'), ('170', '239'), ('132', '159'), ('331', '395'), ('105', '347'), ('221', '314'), ('161', '238'), ('115', '315'), ('177', '289'), ('140', '64'), ('31', '37'), ('127', '272'), ('114', '199'), ('411', '51'), ('137', '20'), ('205', '216'), ('173', '238'), ('282', '64'), ('225', '373'), ('116', '311'), ('175', '234'), ('10', '250'), ('288', '428'), ('250', '375'), ('169', '184'), ('323', '47'), ('295', '351'), ('18', '274'), ('317', '57'), ('252', '300'), ('215', '378'), ('231', '387'), ('215', '266'), ('246', '354'), ('282', '304'), ('378', '428'), ('258', '414'), ('128', '371'), ('152', '173'), ('164', '372'), ('314', '414'), ('165', '31'), ('202', '78'), ('398', '415'), ('172', '232'), ('229', '273'), ('18', '373'), ('247', '349'), ('17', '410'), ('106', '273'), ('182', '211'), ('114', '256'), ('215', '428'), ('106', '329'), ('113', '170'), ('64', '98'), ('199', '228'), ('240', '266'), ('291', '86'), ('229', '403'), ('165', '223'), ('181', '25'), ('223', '271'), ('396', '88'), ('225', '37'), ('162', '205'), ('1', '208'), ('266', '288'), ('317', '68'), ('216', '78'), ('165', '271'), ('165', '381'), ('252', '338'), ('189', '285'), ('234', '64'), ('164', '388'), ('338', '7'), ('172', '244'), ('108', '47'), ('156', '197'), ('232', '244'), ('214', '321'), ('37', '373'), ('339', '354'), ('28', '385'), ('168', '258'), ('159', '226'), ('334', '34'), ('205', '272'), ('36', '74'), ('193', '385'), ('14', '96'), ('21', '381'), ('175', '365'), ('173', '2'), ('16', '208'), ('132', '226'), ('387', '90'), ('127', '317'), ('174', '218'), ('229', '352'), ('315', '94'), ('161', '2'), ('140', '175'), ('271', '381'), ('140', '304'), ('300', '338'), ('108', '236'), ('54', '78'), ('232', '235'), ('229', '374'), ('118', '378'), ('301', '343'), ('151', '269'), ('241', '98'), ('286', '298'), ('106', '374'), ('197', '249'), ('274', '37'), ('57', '68'), ('213', '33'), ('254', '258'), ('351', '360'), ('284', '348'), ('300', '7'), ('218', '344'), ('272', '78'), ('215', '330'), ('161', '173'), ('259', '76'), ('152', '261'), ('219', '229'), ('165', '21'), ('225', '32'), ('199', '256'), ('229', '248'), ('175', '241'), ('118', '428'), ('241', '365'), ('234', '98'), ('31', '381'), ('193', '290'), ('297', '392'), ('140', '241'), ('271', '31'), ('202', '57'), ('252', '7'), ('335', '59'), ('168', '254'), ('108', '323'), ('155', '161'), ('353', '382'), ('219', '374'), ('101', '265'), ('175', '98'), ('273', '403'), ('160', '327'), ('106', '219'), ('49', '9'), ('215', '240'), ('21', '31'), ('287', '4'), ('21', '32'), ('140', '234'), ('284', '388'), ('159', '286'), ('215', '355'), ('205', '57'), ('10', '375'), ('288', '330'), ('271', '274'), ('232', '73'), ('266', '355'), ('221', '254'), ('1', '176'), ('229', '329'), ('165', '32'), ('228', '311'), ('277', '53'), ('282', '98'), ('231', '53'), ('28', '82'), ('177', '75'), ('240', '428'), ('127', '57'), ('284', '372'), ('101', '299'), ('259', '431'), ('304', '98'), ('176', '208'), ('18', '223'), ('317', '54'), ('205', '68'), ('247', '45'), ('225', '274'), ('193', '28'), ('135', '169'), ('236', '47'), ('31', '373'), ('213', '285'), ('112', '190'), ('106', '352'), ('202', '216'), ('174', '344'), ('234', '365'), ('12', '250'), ('225', '381'), ('18', '271'), ('235', '73'), ('251', '293'), ('333', '340'), ('172', '73'), ('216', '272'), ('205', '54'), ('131', '332'), ('240', '378'), ('226', '286'), ('285', '33'), ('104', '177'), ('114', '116'), ('160', '417'), ('273', '374'), ('123', '156'), ('185', '263'), ('127', '54'), ('216', '54'), ('219', '273'), ('131', '353'), ('243', '288'), ('193', '82'), ('11', '134'), ('160', '87'), ('240', '330'), ('122', '173'), ('118', '215'), ('32', '373'), ('306', '91'), ('256', '311'), ('418', '80'), ('12', '375'), ('155', '2'), ('373', '381'), ('122', '152'), ('165', '225'), ('113', '178'), ('178', '239'), ('240', '288'), ('202', '205'), ('241', '282'), ('330', '428'), ('112', '126'), ('329', '403'), ('37', '381'), ('202', '272'), ('18', '31'), ('155', '238'), ('161', '261'), ('113', '239'), ('327', '87'), ('274', '32'), ('290', '416'), ('304', '64'), ('32', '381'), ('116', '256'), ('329', '352'), ('352', '403'), ('159', '298'), ('231', '277'), ('18', '21'), ('222', '55'), ('223', '381'), ('165', '18'), ('241', '304'), ('216', '57'), ('282', '365'), ('254', '414'), ('262', '358'), ('50', '9'), ('330', '378'), ('172', '235'), ('27', '303'), ('226', '279'), ('274', '31'), ('332', '382'), ('162', '317'), ('223', '225'), ('295', '368'), ('122', '261'), ('248', '403'), ('118', '240'), ('193', '416'), ('260', '390'), ('28', '416'), ('116', '228'), ('147', '291'), ('118', '266'), ('21', '373'), ('2', '238'), ('313', '85'), ('106', '248'), ('152', '155'), ('349', '45'), ('114', '311'), ('152', '238'), ('292', '59'), ('348', '388'), ('168', '414'), ('283', '386'), ('379', '393'), ('162', '57'), ('122', '155'), ('104', '289'), ('332', '65'), ('54', '57'), ('57', '78'), ('116', '199'), ('164', '284'), ('330', '355'), ('165', '373'), ('352', '374'), ('175', '304'), ('114', '228'), ('243', '330'), ('289', '75'), ('54', '68'), ('19', '410'), ('351', '368'), ('16', '176'), ('238', '261'), ('387', '53'), ('167', '394'), ('279', '286'), ('141', '409'), ('272', '68'), ('115', '94'), ('258', '314'), ('132', '298'), ('233', '313'), ('175', '282'), ('273', '352'), ('225', '271'), ('223', '373'), ('240', '355'), ('353', '65'), ('243', '266'), ('244', '73'), ('127', '78'), ('333', '370'), ('147', '86'), ('223', '31'), ('365', '98'), ('248', '374'), ('143', '34'), ('169', '433'), ('280', '49'), ('187', '70'), ('21', '225'), ('128', '427'), ('327', '417'), ('162', '202'), ('189', '213'), ('205', '78'), ('18', '37'), ('265', '299'), ('41', '43'), ('123', '197'), ('243', '428'), ('199', '311'), ('1', '15'), ('240', '243'), ('202', '68'), ('216', '68'), ('106', '403'), ('236', '323'), ('156', '249'), ('21', '274'), ('235', '244'), ('317', '78'), ('189', '33'), ('356', '71'), ('49', '50'), ('155', '173'), ('132', '279'), ('162', '78'), ('233', '85'), ('1', '16'), ('118', '355'), ('118', '288'), ('32', '37'), ('241', '64'), ('243', '378'), ('111', '309'), ('173', '261'), ('243', '355')}\n"
          ],
          "name": "stdout"
        }
      ]
    },
    {
      "cell_type": "code",
      "metadata": {
        "id": "rQ1nbIecMg1q",
        "colab_type": "code",
        "colab": {
          "base_uri": "https://localhost:8080/",
          "height": 170
        },
        "outputId": "b34f26f0-5790-45ef-d3c4-59eddc805994"
      },
      "source": [
        "#L.S.H\n",
        "%%time\n",
        "lsh_pairs=[]\n",
        "for pair in candidate_pairs:\n",
        "  jws=jaccardWithShingles(pair)\n",
        "  if(jws>=0.78):\n",
        "    print('(%s , %s) = %f' %(pair[0],pair[1],jws))\n",
        "    lsh_pairs.append(pair)\n",
        "print('The number of False Positives is %d' %(len(candidate_pairs)-len(lsh_pairs)))\n",
        "print('The number of False Negatives is %d' %(len(brute_pairs)-len(lsh_pairs)))"
      ],
      "execution_count": 14,
      "outputs": [
        {
          "output_type": "stream",
          "text": [
            "(17 , 19) = 1.000000\n",
            "(15 , 16) = 1.000000\n",
            "(18 , 21) = 0.907186\n",
            "(1 , 15) = 1.000000\n",
            "(1 , 16) = 1.000000\n",
            "The number of False Positives is 540\n",
            "The number of False Negatives is 0\n",
            "CPU times: user 26.9 ms, sys: 1.04 ms, total: 27.9 ms\n",
            "Wall time: 29 ms\n"
          ],
          "name": "stdout"
        }
      ]
    },
    {
      "cell_type": "markdown",
      "metadata": {
        "id": "JJZie7EPCzNL",
        "colab_type": "text"
      },
      "source": [
        "**References**\n",
        "\n",
        "[Mining of Massive Datasets](http://www.mmds.org/)\n",
        "\n",
        "Python libraries documentation.\n",
        "\n",
        "[Locality Sensitive Hashing (LSH) - cosine distance](http:/ethen8181.github.io/machine-learning/recsys/content_based/lsh_text.html) \n"
      ]
    }
  ]
}