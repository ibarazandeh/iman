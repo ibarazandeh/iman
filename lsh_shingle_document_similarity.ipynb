{
  "nbformat": 4,
  "nbformat_minor": 0,
  "metadata": {
    "colab": {
      "name": "dm-hw2-imanbarazandeh-830498001",
      "provenance": [],
      "collapsed_sections": []
    },
    "kernelspec": {
      "name": "python3",
      "display_name": "Python 3"
    }
  },
  "cells": [
    {
      "cell_type": "code",
      "metadata": {
        "id": "19fvrSZIOEJN",
        "colab_type": "code",
        "colab": {}
      },
      "source": [
        "import os\n",
        "import re\n",
        "import itertools  \n",
        "import random\n",
        "import pandas as pd\n",
        "import numpy as np\n",
        "from scipy.sparse import lil_matrix\n",
        "from collections import defaultdict\n",
        "root='/content/drive/My Drive/Colab Notebooks/docs'\n",
        "len_of_shingles=10"
      ],
      "execution_count": 0,
      "outputs": []
    },
    {
      "cell_type": "markdown",
      "metadata": {
        "id": "szAvr5hAbCil",
        "colab_type": "text"
      },
      "source": [
        "**This is the whole story:**\n",
        "\n",
        "![Locality-sensitive hashing](https://dl.dropboxusercontent.com/s/09xk0f07pw45qh2/mystory.png)\n",
        "\n",
        "\n",
        "\n"
      ]
    },
    {
      "cell_type": "code",
      "metadata": {
        "id": "gl47wnto4rQM",
        "colab_type": "code",
        "colab": {}
      },
      "source": [
        "\n",
        "\n",
        "k_shingles=lambda x: len(x)>=2 # Check the length of a string (shingles)\n",
        "\n",
        "def shinglizer(txt, n): \n",
        "  txt=re.sub(r'[^\\w\\s\\d]',' ', txt).lower() #Replace all non-numerical and non-alphabetical characters with space\n",
        "  txt=re.sub(r'\\s{1,}',' ', txt) #Replace one or more spaces with one space\n",
        "  txt=[(txt[i:i+n]) for i in range(0, len(txt))] #Split the input string into shingles of n characters\n",
        "  txt=set(filter(k_shingles,txt)) #filter very short shingles\n",
        "  return txt "
      ],
      "execution_count": 0,
      "outputs": []
    },
    {
      "cell_type": "markdown",
      "metadata": {
        "id": "ja4uTXVrYHxP",
        "colab_type": "text"
      },
      "source": [
        "**Converting Documents To Sets of Shingles**"
      ]
    },
    {
      "cell_type": "code",
      "metadata": {
        "id": "aXRJA4m3GFSz",
        "colab_type": "code",
        "outputId": "b238d2c6-06f5-4b8f-d380-e7bd72d7d3f4",
        "colab": {
          "base_uri": "https://localhost:8080/",
          "height": 51
        }
      },
      "source": [
        "#Reading all files and their contents and then, split texts into shingles\n",
        "%%time\n",
        "\n",
        "shingles=set()\n",
        "\n",
        "documents=os.listdir(root)\n",
        "documents = random.sample(documents, len(documents)) #shuffling documents \n",
        "\n",
        "content=dict()\n",
        "for doc in documents:\n",
        "  path= os.path.join(root, doc)\n",
        "  file = open(path, 'r')\n",
        "  txt=file.read()\n",
        "  shn=shinglizer(txt,len_of_shingles)\n",
        "  content[doc]=shn\n",
        "  shingles.update(shn)\n",
        "\n",
        "  file.close()\n",
        "\n",
        "shingles=list(shingles)\n",
        "shingles = random.sample(shingles, len(shingles)) #shuffling shingles "
      ],
      "execution_count": 0,
      "outputs": [
        {
          "output_type": "stream",
          "text": [
            "CPU times: user 174 ms, sys: 69.6 ms, total: 243 ms\n",
            "Wall time: 531 ms\n"
          ],
          "name": "stdout"
        }
      ]
    },
    {
      "cell_type": "markdown",
      "metadata": {
        "id": "iqWsq33ZYWRz",
        "colab_type": "text"
      },
      "source": [
        "**Generating Shingles-Documents Matrix**"
      ]
    },
    {
      "cell_type": "code",
      "metadata": {
        "id": "hDeMsEsWGFkR",
        "colab_type": "code",
        "outputId": "44fbffd2-c14f-4cde-dbe5-892254ff9754",
        "colab": {
          "base_uri": "https://localhost:8080/",
          "height": 68
        }
      },
      "source": [
        "#Generating shingles-documents matrix\n",
        "%%time\n",
        "mtx=pd.DataFrame(0,columns=documents,index=shingles)\n",
        "\n",
        "for doc in documents:\n",
        "  for shingle in content[doc]:\n",
        "    mtx.at[shingle,doc]=1\n",
        "\n",
        "print('The shape of the mtx is: ', mtx.shape)"
      ],
      "execution_count": 0,
      "outputs": [
        {
          "output_type": "stream",
          "text": [
            "The shape of the mtx is:  (34583, 436)\n",
            "CPU times: user 976 ms, sys: 27.3 ms, total: 1 s\n",
            "Wall time: 1.01 s\n"
          ],
          "name": "stdout"
        }
      ]
    },
    {
      "cell_type": "markdown",
      "metadata": {
        "id": "wK2qVL5gYpQU",
        "colab_type": "text"
      },
      "source": [
        "**Generating Signature Matrix**"
      ]
    },
    {
      "cell_type": "code",
      "metadata": {
        "id": "bycep03s9wG_",
        "colab_type": "code",
        "outputId": "6e863388-06fb-449a-941b-e77e16f0e77b",
        "colab": {
          "base_uri": "https://localhost:8080/",
          "height": 51
        }
      },
      "source": [
        "#Let's assume there are 100 hash functuions to produce signatures for all sets(documents)\n",
        "%%time\n",
        "\n",
        "denominator=mtx.shape[0]\n",
        "permutation=lambda a,x,c : (a*x+c) % denominator \n",
        "\n",
        "signature_length=100 #Num of hash functions as well.\n",
        "\n",
        "\n",
        "def minhash(a,c,li): #It hashes the indices and return the minimum index\n",
        "  hashed_list=[permutation(a,x,c) for x in li]\n",
        "  return min(hashed_list)\n",
        "\n",
        "def signature(mtx):\n",
        "  c=random.sample(list(range(1,1001)),k=1000)\n",
        "  a=random.sample(list(range(1,1001)),k=1000)\n",
        "  \n",
        "  lil=lil_matrix(mtx.values) #Sparse representation Help to speed up computation and save resources\n",
        "  signs=pd.DataFrame('-',columns=documents, index=list(range(0,signature_length)))\n",
        "\n",
        "  for i in range(0,lil.get_shape()[1]): #iterating over documents\n",
        "    coli_nz_idx=lil.getcol(i).nonzero()[0] #return a numpy array of indices of nonzero elements of column i\n",
        "    signs[documents[i]]=[minhash(a[j],c[j],coli_nz_idx) for j in range(0, signature_length)]  \n",
        "  return signs\n",
        "\n",
        "sig=signature(mtx)"
      ],
      "execution_count": 0,
      "outputs": [
        {
          "output_type": "stream",
          "text": [
            "CPU times: user 54.3 s, sys: 30.8 ms, total: 54.3 s\n",
            "Wall time: 54.4 s\n"
          ],
          "name": "stdout"
        }
      ]
    },
    {
      "cell_type": "markdown",
      "metadata": {
        "id": "jzqNA0DtWos-",
        "colab_type": "text"
      },
      "source": [
        "**Cosine-based L.S.H. implementation**\n",
        "\n",
        "The figure shows what happens in each iteration.\n",
        "\n",
        "![Cosine-based L.S.H. implementation](https://dl.dropboxusercontent.com/s/ilxxafrt83fusr2/cosines.png)\n",
        "\n",
        "\n"
      ]
    },
    {
      "cell_type": "code",
      "metadata": {
        "id": "-4xJXjKHMbSB",
        "colab_type": "code",
        "colab": {}
      },
      "source": [
        "# Cosine-based L.S.H. implementation\n",
        "%%time\n",
        "\n",
        "r=10 #num_of_rows_in_a_bar\n",
        "b=signature_length/r #num_of_bars (The num of hash sig. hash fucts is 100)\n",
        "s=(1/b)**(1/r) #Threshold or the probability_of_candidacy \n",
        "print(\"The Threshold for the candidacy is %5.2f\" % s)\n",
        "\n",
        "distance=lambda U,v: [np.dot(u,v) for u in U]\n",
        "\n",
        "\n",
        "def randvect(r): #Returns a random list of -1 and 1\n",
        "  rv=np.random.randint(2, size=r)\n",
        "  replace=lambda x: x-1 if(x==0) else x\n",
        "  rv=list(map(replace,rv))\n",
        "  return rv\n",
        "\n",
        "def lsh_cosine(sig):\n",
        "\n",
        "  v=randvect(r)\n",
        "\n",
        "  bars=np.array(pd.DataFrame(sig, index=list(range(0,r)),columns=documents)).T\n",
        "  bar_cos=distance(bars,v)\n",
        "  bar_cos=pd.DataFrame(bar_cos,columns=[0],index=documents)\n",
        "  cosines=pd.DataFrame(bar_cos)\n",
        "\n",
        "  for i in range (r,signature_length,r):\n",
        "    #v=randvect(r)\n",
        "    bars=np.array(pd.DataFrame(sig, index=list(range(i,i+r)),columns=documents)).T\n",
        "    bar_cos=distance(bars,v)\n",
        "    bar_cos=pd.DataFrame(bar_cos,columns=[int(i/r)],index=documents)\n",
        "    cosines=pd.concat([cosines, bar_cos], axis=1)\n",
        "  return cosines,v\n",
        "  \n",
        "cosines,vector=lsh_cosine(sig)\n",
        "#print(vector)\n"
      ],
      "execution_count": 0,
      "outputs": []
    },
    {
      "cell_type": "markdown",
      "metadata": {
        "id": "0jfkiaTpWSJt",
        "colab_type": "text"
      },
      "source": [
        "**Updating bins with an OR Construction**\n",
        "\n",
        "![Updating bins with an OR Construction](https://dl.dropboxusercontent.com/s/6ilnejffw2z777n/bins.png)\n",
        "\n"
      ]
    },
    {
      "cell_type": "code",
      "metadata": {
        "id": "rCIB-UNaAryl",
        "colab_type": "code",
        "colab": {}
      },
      "source": [
        "%%time\n",
        "noSameElements=lambda t: t[0]!=t[1]\n",
        "\n",
        "def assign_a_binID(li):\n",
        "  bits = [str(i) for i in li]\n",
        "  bits = \"\".join(bits)\n",
        "  return int(bits,2)\n",
        "\n",
        "#Converting signs to booleans and then, bits\n",
        "bins=np.array(cosines.ge(0))\n",
        "bins=np.multiply(bins, 1) \n",
        "binsDict=defaultdict(list)\n",
        "\n",
        "\n",
        "for i,doc in enumerate(documents):\n",
        "  binID=assign_a_binID(bins[i])\n",
        "  binsDict[binID].append(doc)\n",
        "\n",
        "candidate_pairs=set()\n",
        "for i in binsDict.keys():\n",
        "  if (len(binsDict[i])>=2):\n",
        "    pairs=set(itertools.product(binsDict[i],binsDict[i]))\n",
        "    pairs=set([tuple(sorted(item)) for item in pairs])\n",
        "    pairs=set(filter(noSameElements,pairs))\n",
        "    candidate_pairs.update(pairs)\n",
        "    "
      ],
      "execution_count": 0,
      "outputs": []
    },
    {
      "cell_type": "markdown",
      "metadata": {
        "id": "9B_rPUden9TR",
        "colab_type": "text"
      },
      "source": [
        "**Validation: L.S.H vs. Jaccard**"
      ]
    },
    {
      "cell_type": "code",
      "metadata": {
        "id": "XR4u_pzXMgmy",
        "colab_type": "code",
        "colab": {}
      },
      "source": [
        "#Brute Force comaprison\n",
        "brute_pairs=[]\n",
        "jaccardWithShingles=lambda d : len(content[d[0]].intersection(content[d[1]])) / float(len(content[d[0]].union(content[d[1]])))\n",
        "\n",
        "for d1 in documents:\n",
        "  for d2 in documents:\n",
        "    if(d1!=d2):\n",
        "      jws=jaccardWithShingles((d1,d2))\n",
        "      if((jws>=0.78) and ((d2,d1) not in brute_pairs)):\n",
        "        print('(%s , %s) = %f' %(d1,d2,jws))\n",
        "        brute_pairs.append((d1,d2))  \n"
      ],
      "execution_count": 0,
      "outputs": []
    },
    {
      "cell_type": "code",
      "metadata": {
        "id": "J9j5aiK9VuSf",
        "colab_type": "code",
        "outputId": "a8823425-0d3f-4a07-d1b0-cde1713f7e25",
        "colab": {
          "base_uri": "https://localhost:8080/",
          "height": 51
        }
      },
      "source": [
        "cart=len(documents)**2\n",
        "cart=(cart-len(documents))/2\n",
        "p=len(candidate_pairs)/cart * 100\n",
        "print('Almost %5.2f percent of document-pairs are candidates to be compared.'% p)\n",
        "print('And the number of candidate pairs are %d, including: '% len(candidate_pairs))\n"
      ],
      "execution_count": 0,
      "outputs": [
        {
          "output_type": "stream",
          "text": [
            "Almost  0.16 percent of document-pairs are candidates to be compared.\n",
            "And the number of candidate pairs are 155, including: \n"
          ],
          "name": "stdout"
        }
      ]
    },
    {
      "cell_type": "code",
      "metadata": {
        "id": "mCnqY9RMaF-X",
        "colab_type": "code",
        "colab": {}
      },
      "source": [
        "print(candidate_pairs)"
      ],
      "execution_count": 0,
      "outputs": []
    },
    {
      "cell_type": "code",
      "metadata": {
        "id": "rQ1nbIecMg1q",
        "colab_type": "code",
        "colab": {}
      },
      "source": [
        "#L.S.H\n",
        "%%time\n",
        "lsh_pairs=[]\n",
        "for pair in candidate_pairs:\n",
        "  jws=jaccardWithShingles(pair)\n",
        "  if(jws>=0.78):\n",
        "    print('(%s , %s) = %f' %(pair[0],pair[1],jws))\n",
        "    lsh_pairs.append(pair)\n",
        "print('The number of False Positives is %d' %(len(candidate_pairs)-len(lsh_pairs)))\n",
        "print('The number of False Negatives is %d' %(len(brute_pairs)-len(lsh_pairs)))"
      ],
      "execution_count": 0,
      "outputs": []
    }
  ]
}
